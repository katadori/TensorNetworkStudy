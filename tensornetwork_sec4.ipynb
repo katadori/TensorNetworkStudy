{
 "cells": [
  {
   "cell_type": "markdown",
   "metadata": {},
   "source": [
    "# テンソルネットワークのべんきょう\n",
    "\n",
    "西野友年「テンソルネットワーク入門」講談社，2023に出てくる計算を実際にプログラムしてみます．\n",
    "\n",
    "- 言語はJuliaで\n",
    "\n",
    "\n",
    "## 第4章 角転送行列\n",
    "\n",
    "---\n",
    "\n",
    "### 4脚テンソルの値\n",
    "\n",
    "詳細については `sec4.角転送行列.pdf` を参照のこと\n",
    "\n",
    "本書では4脚テンソルの値は次のように決められている．\n",
    "\n",
    "$$\n",
    "W_{0010} = W_{1000} = W_{0001} = W_{0100} = 1,\n",
    "$$\n",
    "それ以外の配置の場合には\n",
    "$$\n",
    "    W_{abcd} = 0\n",
    "$$\n",
    "ただし，テキスト中ではテンソルの脚は十字型に配置されているが，この文書では表現できないため，一番左の脚から時計回りに $W_{abcd}$としている．"
   ]
  },
  {
   "cell_type": "code",
   "execution_count": 1,
   "metadata": {},
   "outputs": [
    {
     "name": "stdout",
     "output_type": "stream",
     "text": [
      "[0 1; 1 0;;; 1 0; 0 0;;;; 1 0; 0 0;;; 0 0; 0 0]\n",
      "(2, 2, 2, 2)\n"
     ]
    }
   ],
   "source": [
    "# 4階のテンソルを作成\n",
    "W = zeros(Int64, 2, 2, 2, 2)\n",
    "\n",
    "W[2, 1, 1, 1] = 1\n",
    "W[1, 2, 1, 1] = 1\n",
    "W[1, 1, 2, 1] = 1\n",
    "W[1, 1, 1, 2] = 1\n",
    "\n",
    "println(W)\n",
    "println(size(W))"
   ]
  },
  {
   "cell_type": "markdown",
   "metadata": {},
   "source": [
    "### p.52 宿題\n",
    "> $P^{(n)}$ と $C^{(n)}$ を $n=1$ から順番に求めて，縮約 $c^{(n)}=\\mathrm{Tr}\\left[ C^{(n)} \\right]^4$ の値を得るプログラムを組みなさい．\\\n",
    "> $P^{(n+1)}$ や $C^{(n+1)}$ を求めたら，その時点で $P^{(n)}$ と $C^{(n)}$ は不要になるので，捨てても良いことに注意．"
   ]
  },
  {
   "cell_type": "markdown",
   "metadata": {},
   "source": [
    "まず，部分和，$C^{(1)}_{(a, b)}$ と $P^{(1)}_{(a, b, c)}$ を定めておく．"
   ]
  },
  {
   "cell_type": "code",
   "execution_count": 2,
   "metadata": {},
   "outputs": [
    {
     "data": {
      "text/plain": [
       "1"
      ]
     },
     "metadata": {},
     "output_type": "display_data"
    }
   ],
   "source": [
    "# 2階のテンソルを作成\n",
    "C1 = zeros(Int64, 2, 2)\n",
    "C1[2, 1] = 1\n",
    "C1[1, 2] = 1\n",
    "\n",
    "# 3階のテンソルを作成\n",
    "P1 = zeros(Int64, 2, 2, 2)\n",
    "P1[2, 1, 1] = 1\n",
    "P1[1, 2, 1] = 1\n",
    "P1[1, 1, 2] = 1"
   ]
  },
  {
   "cell_type": "code",
   "execution_count": 78,
   "metadata": {},
   "outputs": [
    {
     "data": {
      "text/plain": [
       "2×2 Matrix{Int64}:\n",
       " 0  1\n",
       " 1  0"
      ]
     },
     "metadata": {},
     "output_type": "display_data"
    }
   ],
   "source": [
    "C1"
   ]
  },
  {
   "cell_type": "code",
   "execution_count": 79,
   "metadata": {},
   "outputs": [
    {
     "data": {
      "text/plain": [
       "2×2×2 Array{Int64, 3}:\n",
       "[:, :, 1] =\n",
       " 0  1\n",
       " 1  0\n",
       "\n",
       "[:, :, 2] =\n",
       " 1  0\n",
       " 0  0"
      ]
     },
     "metadata": {},
     "output_type": "display_data"
    }
   ],
   "source": [
    "P1"
   ]
  },
  {
   "cell_type": "markdown",
   "metadata": {},
   "source": [
    "## 計算の概要\n",
    "\n",
    "1. $C^{(n+1)}$ を $C^{(n)}$ と $P^{(n)}$ から求める処理の実装\n",
    "   1. First, compute $Q^{(n)}$ from $C^{(n)}$ and $P^{(n)}$\n",
    "   2. Second, compute $P^{(n+1)}$ from $P^{(n)}$ and $W$\n",
    "   3. Third, compute $C^{(n+1)}$ from $Q^{(n)}$ and $P^{(n+1)}$\n",
    "2. $n=1$ から $n$ まで順に $C^{(n)}$ を計算する処理の実装\n",
    "3. $c^{(n)}=\\mathrm{Tr}\\left[ C^{(n)} \\right]^4$ を計算する"
   ]
  },
  {
   "cell_type": "markdown",
   "metadata": {},
   "source": [
    "#### 1-1. $C^{(n)}$ を $P^{(n)}$ で部分和を計算する処理\n",
    "\n",
    "この部分和を $Q^{(n)}$ とおく"
   ]
  },
  {
   "cell_type": "code",
   "execution_count": 70,
   "metadata": {},
   "outputs": [
    {
     "data": {
      "text/plain": [
       "compute_Q_n"
      ]
     },
     "metadata": {},
     "output_type": "display_data"
    }
   ],
   "source": [
    "\"\"\"\n",
    "Contract P^{(n)} and C^{(n)}\n",
    "\n",
    "In: \n",
    "    P^{(n)}_{μ α i}\n",
    "        μ = n*j + (n-1)*j' + ... j'''で，(0,1)をとるn本の脚を1つの脚にまとめたもの.\n",
    "            0 から (n^2 - 1) まで，2^n通りの値を取りうる\n",
    "        α = n*k + (n-1)*k' + ... k'''で，μと同様\n",
    "        i は (0,1)をとる脚\n",
    "    C^{(n)}_{α β}: 角転送行列\n",
    "        α = n*j + (n-1)*j' + ... j'''で，(0,1)をとるn本の脚を1つの脚にまとめたもの.\n",
    "            0 から (n^2 - 1) まで，2^n通りの値を取りうる\n",
    "        β = n*k + (n-1)*k' + ... k'''で，αと同様\n",
    "Out:\n",
    "    Q^{(n)}_{μ γ}\n",
    "        μ = n*j + (n-1)*j' + ... j'''で，(0,1)をとるn本の脚を1つの脚にまとめたもの.\n",
    "            0 から (n^2 - 1) まで，2^n通りの値を取りうる\n",
    "        γ = n+1*k + n*k' + ... k'''で, (0,1)をとるn+1本の脚を1つの脚にまとめたもの.\n",
    "            β と i をまとめて一つの文字にしている\n",
    "\"\"\"\n",
    "function compute_Q_n(C_n, P_n)\n",
    "    # μ の 数は 2^n 通り, γ の数は 2^(n+1) 通りである．\n",
    "    two_to_the_n = size(P_n, 1) # = 2^n\n",
    "    n = Int(log2(two_to_the_n))\n",
    "    # initialize CPn\n",
    "    Q_n = zeros(Int64, 2^n, 2^(n+1))\n",
    "    # println(size(Q_n))\n",
    "    # compute CPn\n",
    "    # μ については，脚をまとめないので，そのまま\n",
    "    for μ in 1:2^n\n",
    "        # γ については，脚をまとめるので， P_n+1 と同じように計算する\n",
    "        for γ in 1:2^(n+1)\n",
    "            value = 0\n",
    "            # 生の脚 i について，場合わけをして決める\n",
    "            if γ <= 2^n\n",
    "                i = 1\n",
    "                β = γ\n",
    "            else\n",
    "                i = 2\n",
    "                β = γ - 2^n\n",
    "            end\n",
    "            # sum over α\n",
    "            for α in 1:2^n\n",
    "                value += C_n[α, β] * P_n[μ, α, i]\n",
    "            end\n",
    "            # print(\"μ = \", μ, \", γ = \", γ, \", i = \", i, \", β = \", β, \", value = \", value, \"\\n\")\n",
    "            Q_n[μ, γ] = value\n",
    "        end\n",
    "    end\n",
    "    return Q_n\n",
    "end\n",
    "\n",
    "# Q1 = compute_Q_n(C1, P1)"
   ]
  },
  {
   "cell_type": "markdown",
   "metadata": {},
   "source": [
    "#### 1-2. $P^{(n+1)}$ を $P^{(n)}$ から計算する処理"
   ]
  },
  {
   "cell_type": "code",
   "execution_count": 69,
   "metadata": {},
   "outputs": [
    {
     "data": {
      "text/plain": [
       "contract_P_np1_W"
      ]
     },
     "metadata": {},
     "output_type": "display_data"
    }
   ],
   "source": [
    "\"\"\"\n",
    "Compute4 P^{(n+1)} from P^{(n)}\n",
    "\n",
    "In: \n",
    "    P^{(n)}_{μ ν i}\n",
    "        μ = n*j + (n-1)*j' + ... j'''で，(0,1)をとるn本の脚を1つの脚にまとめたもの.\n",
    "            0 から (n^2 - 1) まで，2^n通りの値を取りうる\n",
    "        ν = n*k + (n-1)*k' + ... k'''で，μと同様\n",
    "        i は (0,1)をとる脚\n",
    "    W_{a j b i} は，a,j,b,iが(0,1)をとる4本の脚を持つテンソル\n",
    "Out:\n",
    "    P^{(n+1)}_{ρ σ j}\n",
    "        μ = (n+1)*j + n*j' + ... j'''で，(0,1)をとるn+1本の脚を1つの脚にまとめたもの.\n",
    "            0 から ((n+1)^2 - 1) まで，2^n通りの値を取りうる\n",
    "        ρ = n+1*k + n*k' + ... k'''で，μと同様\n",
    "        j は (0,1)をとる脚\n",
    "\"\"\"\n",
    "function contract_P_np1_W(P_n, W::Array{Int64, 4})\n",
    "    # 取りうる状態の数は， n^2 通りなので， Pの大きさは 2^n * 2^n * 2 になっている\n",
    "    two_to_the_n = size(P_n, 1) # = 2^n\n",
    "    n = Int(log2(two_to_the_n))\n",
    "    # println(\"n = \", n)\n",
    "    # initialize P^{(n+1)}\n",
    "    P_np1 = zeros(Int64, 2^(n+1), 2^(n+1), 2)\n",
    "    # println(size(P_np1))\n",
    "    # compute P^{(n+1)}\n",
    "    for ρ in 1:2^(n+1); for σ in 1:2^(n+1); for j in 1:2\n",
    "        value = 0\n",
    "        # set a \n",
    "        if ρ <= 2^n\n",
    "            a = 1\n",
    "            μ = ρ\n",
    "        else\n",
    "            a = 2\n",
    "            μ = ρ - 2^n\n",
    "        end\n",
    "        # set b\n",
    "        if σ <= 2^n\n",
    "            b = 1\n",
    "            ν = σ\n",
    "        else\n",
    "            b = 2\n",
    "            ν = σ - 2^n\n",
    "        end\n",
    "        # sum over i\n",
    "        for i in 1:2\n",
    "            value += P_n[μ, ν, i] * W[a, j, b, i]\n",
    "        end\n",
    "        # print(\"ρ = \", ρ, \", σ = \", σ, \", j = \", j, \", a = \", a, \", b = \", b, \", value = \", value, \"\\n\")\n",
    "        P_np1[ρ, σ, j] = value\n",
    "    end; end; end\n",
    "    return P_np1\n",
    "end\n",
    "\n",
    "# P2 = contract_P_np1_W(P1, W)"
   ]
  },
  {
   "cell_type": "markdown",
   "metadata": {},
   "source": [
    "#### 1-3. $Q^{(n)}$ と $P^{(n+1)}$ の縮約をとって $C^{(n+1)}$ を計算する関数"
   ]
  },
  {
   "cell_type": "code",
   "execution_count": 68,
   "metadata": {},
   "outputs": [
    {
     "data": {
      "text/plain": [
       "contract_Q_n_P_np1"
      ]
     },
     "metadata": {},
     "output_type": "display_data"
    }
   ],
   "source": [
    "\"\"\"\n",
    "Contract Q^{(n)} and P^{(n+1)}\n",
    "\n",
    "In: \n",
    "    Q^{(n)}_{α ρ}\n",
    "        α = n*j + (n-1)*j' + ... j'''で，(0,1)をとるn本の脚を1つの脚にまとめたもの.\n",
    "            0 から (n^2 - 1) まで，2^n通りの値を取りうる\n",
    "        ρ = n+1*k + n*k' + ... k'''で, (0,1)をとるn+1本の脚を1つの脚にまとめたもの.\n",
    "            β と i をまとめて一つの文字にしている\n",
    "    P^{(n+1)}_{ρ σ j}\n",
    "        ρ = (n+1)*j + n*j' + ... j'''で，(0,1)をとるn+1本の脚を1つの脚にまとめたもの.\n",
    "            0 から ((n+1)^2 - 1) まで，2^n通りの値を取りうる\n",
    "        σ = n+1*k + n*k' + ... k'''で，μと同様\n",
    "        j は (0,1)をとる脚\n",
    "Out:\n",
    "    P^{(n+1)}_{ϕ ψ}\n",
    "        ϕ = (n+1)*j + n*j' + ... j'''で，(0,1)をとるn+1本の脚を1つの脚にまとめたもの.\n",
    "            0 から ((n+1)^2 - 1) まで，2^n通りの値を取りうる\n",
    "        σ = (n+1)*j + n*j' + ... j'''で，(0,1)をとるn+1本の脚を1つの脚にまとめたもの.\n",
    "            0 から ((n+1)^2 - 1) まで，2^n通りの値を取りうる\n",
    "\n",
    "\"\"\"\n",
    "function contract_Q_n_P_np1(Q_n, P_np1)\n",
    "    # ρ の 数は 2^(n+1) 通り, α の数は 2^n+1 通りである．\n",
    "    two_to_the_n = size(Q_n, 1) # = 2^n\n",
    "    n = Int(log2(two_to_the_n))\n",
    "    # initialize C_np1\n",
    "    C_np1 = zeros(Int64, 2^(n+1), 2^(n+1))\n",
    "    # println(size(C_np1))\n",
    "    # compute C_np1\n",
    "    # σ については，脚をまとめないので，そのまま\n",
    "    for σ in 1:2^(n+1)\n",
    "        # ϕ については，脚をまとめるので， P_n+1 と同じように計算する\n",
    "        for ϕ in 1:2^(n+1)\n",
    "            value = 0\n",
    "            # 生の脚 j について，場合わけをして決める\n",
    "            if ϕ <= 2^n\n",
    "                j = 1\n",
    "                α = ϕ\n",
    "            else\n",
    "                j = 2\n",
    "                α = ϕ - 2^n\n",
    "            end\n",
    "            # sum over ρ\n",
    "            for ρ in 1:2^(n+1)\n",
    "                value += Q_n[α, ρ] * P_np1[ρ, σ, j]\n",
    "                # print(\"ϕ = \", ϕ, \", σ = \", σ, \" ρ = \", ρ, \", j = \", j, \", α = \", α, \", Q_n[α, ρ] * P_np1[ρ, σ, j] = \", Q_n[α, ρ] * P_np1[ρ, σ, j], \"\\n\")\n",
    "            end\n",
    "            C_np1[ϕ, σ] = value\n",
    "        end\n",
    "    end\n",
    "    return C_np1\n",
    "end\n",
    "\n",
    "# C2 = contract_Q_n_P_np1(Q1, P2)"
   ]
  },
  {
   "cell_type": "markdown",
   "metadata": {},
   "source": [
    "## 1. 上記の計算をまとめて，$C^{(n+1)}$ を $C^{(n)}$ と $P^{(n)}$ から計算する"
   ]
  },
  {
   "cell_type": "code",
   "execution_count": 71,
   "metadata": {},
   "outputs": [
    {
     "data": {
      "text/plain": [
       "([2 0 0 1; 0 0 1 0; 0 1 0 0; 1 0 0 0], [1 0 0 1; 0 0 1 0; 0 1 0 0; 1 0 0 0;;; 0 1 0 0; 1 0 0 0; 0 0 0 0; 0 0 0 0])"
      ]
     },
     "metadata": {},
     "output_type": "display_data"
    }
   ],
   "source": [
    "\"\"\"\n",
    "Compute C^{(n+1)} from C^{(n)} and P^{(n)}\n",
    "\n",
    "1. First, compute Q^{(n)} from C^{(n)} and P^{(n)} \n",
    "2. Second, compute P^{(n+1)} from P^{(n)} and W\n",
    "3. Third, compute C^{(n+1)} from Q^{(n)} and P^{(n+1)}\n",
    "\n",
    "In: \n",
    "    P^{(n)}_{μ α i}\n",
    "        μ = n*j + (n-1)*j' + ... j'''で，(0,1)をとるn本の脚を1つの脚にまとめたもの.\n",
    "            0 から (n^2 - 1) まで，2^n通りの値を取りうる\n",
    "        α = n*k + (n-1)*k' + ... k'''で，μと同様\n",
    "        i は (0,1)をとる脚\n",
    "    C^{(n)}_{α β}: 角転送行列\n",
    "        α = n*j + (n-1)*j' + ... j'''で，(0,1)をとるn本の脚を1つの脚にまとめたもの.\n",
    "            0 から (n^2 - 1) まで，2^n通りの値を取りうる\n",
    "        β = n*k + (n-1)*k' + ... k'''で，αと同様\n",
    "\n",
    "Out:\n",
    "    P^{(n+1)}_{ρ σ j}\n",
    "        μ = (n+1)*j + n*j' + ... j'''で，(0,1)をとるn+1本の脚を1つの脚にまとめたもの.\n",
    "            0 から ((n+1)^2 - 1) まで，2^n通りの値を取りうる\n",
    "        ρ = n+1*k + n*k' + ... k'''で，μと同様\n",
    "        j は (0,1)をとる脚\n",
    "\"\"\"\n",
    "function compute_C_np1_from_C_n_P_n(C_n, P_n)\n",
    "    Q_n = compute_Q_n(C_n, P_n)\n",
    "    P_np1 = contract_P_np1_W(P_n, W)\n",
    "    C_np1 = contract_Q_n_P_np1(Q_n, P_np1)\n",
    "    return C_np1, P_np1\n",
    "end\n",
    "\n",
    "C2, P2 = compute_C_np1_from_C_n_P_n(C1, P1)"
   ]
  },
  {
   "cell_type": "markdown",
   "metadata": {},
   "source": [
    "## 2. $n=1$ から $n$ まで順に $C^{(n)}$ を計算する処理の実装"
   ]
  },
  {
   "cell_type": "code",
   "execution_count": 80,
   "metadata": {},
   "outputs": [
    {
     "data": {
      "text/plain": [
       "compute_C_n (generic function with 1 method)"
      ]
     },
     "metadata": {},
     "output_type": "display_data"
    }
   ],
   "source": [
    "function compute_C_n(n)\n",
    "    size_C_n = n - 1\n",
    "    # initialize\n",
    "    C = C1\n",
    "    P = P1\n",
    "    # succesive computation\n",
    "    for i in 1:size_C_n\n",
    "        C_np1, P_np1 = compute_C_np1_from_C_n_P_n(C, P)\n",
    "        C = C_np1\n",
    "        P = P_np1\n",
    "    end\n",
    "    return C\n",
    "end"
   ]
  },
  {
   "cell_type": "code",
   "execution_count": 83,
   "metadata": {},
   "outputs": [
    {
     "data": {
      "text/plain": [
       "4×4 Matrix{Int64}:\n",
       " 2  0  0  1\n",
       " 0  0  1  0\n",
       " 0  1  0  0\n",
       " 1  0  0  0"
      ]
     },
     "metadata": {},
     "output_type": "display_data"
    }
   ],
   "source": [
    "C2 = compute_C_n(2)"
   ]
  },
  {
   "cell_type": "code",
   "execution_count": 85,
   "metadata": {},
   "outputs": [
    {
     "data": {
      "text/plain": [
       "4×4 Matrix{Int64}:\n",
       " 5  0  0  2\n",
       " 0  1  0  0\n",
       " 0  0  1  0\n",
       " 2  0  0  1"
      ]
     },
     "metadata": {},
     "output_type": "display_data"
    }
   ],
   "source": [
    "C2 * C2"
   ]
  },
  {
   "cell_type": "markdown",
   "metadata": {},
   "source": [
    "## 3. $c^{(n)}=\\mathrm{Tr}\\left[ C^{(n)} \\right]^4$ を計算する"
   ]
  },
  {
   "cell_type": "code",
   "execution_count": 98,
   "metadata": {},
   "outputs": [
    {
     "data": {
      "text/plain": [
       "compute_c_value (generic function with 1 method)"
      ]
     },
     "metadata": {},
     "output_type": "display_data"
    }
   ],
   "source": [
    "using LinearAlgebra\n",
    "\n",
    "function compute_c_value(n)\n",
    "    C_n = compute_C_n(n)\n",
    "    c_value = tr(C_n * C_n * C_n * C_n)\n",
    "    size_TN = 2 * n\n",
    "    println(\"c' of this model by $size_TN * $size_TN Tensor network: $c_value\")\n",
    "    # return c_value\n",
    "end"
   ]
  },
  {
   "cell_type": "markdown",
   "metadata": {},
   "source": [
    "---\n",
    "\n",
    "以上で，大きさ $2n*2n$ のテンソルネットワークについて，縮約を計算するプログラムが完成した"
   ]
  },
  {
   "cell_type": "markdown",
   "metadata": {},
   "source": [
    "#### (2 * 2) の時"
   ]
  },
  {
   "cell_type": "code",
   "execution_count": 103,
   "metadata": {},
   "outputs": [
    {
     "name": "stdout",
     "output_type": "stream",
     "text": [
      "c' of this model by 2 * 2 Tensor network: 2\n",
      "  0.000152 seconds (34 allocations: 1.227 KiB)\n"
     ]
    }
   ],
   "source": [
    "@time compute_c_value(1)"
   ]
  },
  {
   "cell_type": "markdown",
   "metadata": {},
   "source": [
    "(4*4)"
   ]
  },
  {
   "cell_type": "code",
   "execution_count": 104,
   "metadata": {},
   "outputs": [
    {
     "name": "stdout",
     "output_type": "stream",
     "text": [
      "c' of this model by 4 * 4 Tensor network: 36\n",
      "  0.000274 seconds (49 allocations: 63.758 KiB)\n"
     ]
    }
   ],
   "source": [
    "@time compute_c_value(2)"
   ]
  },
  {
   "cell_type": "code",
   "execution_count": 105,
   "metadata": {},
   "outputs": [
    {
     "name": "stdout",
     "output_type": "stream",
     "text": [
      "c' of this model by 6 * 6 Tensor network: 6728\n",
      "  0.000200 seconds (52 allocations: 66.852 KiB)\n"
     ]
    }
   ],
   "source": [
    "@time compute_c_value(3)"
   ]
  },
  {
   "cell_type": "code",
   "execution_count": 106,
   "metadata": {},
   "outputs": [
    {
     "name": "stdout",
     "output_type": "stream",
     "text": [
      "c' of this model by 8 * 8 Tensor network: 12988816\n",
      "  0.000225 seconds (56 allocations: 78.922 KiB)\n"
     ]
    }
   ],
   "source": [
    "@time compute_c_value(4)"
   ]
  },
  {
   "cell_type": "code",
   "execution_count": 107,
   "metadata": {},
   "outputs": [
    {
     "name": "stdout",
     "output_type": "stream",
     "text": [
      "c' of this model by 10 * 10 Tensor network: 258584046368\n",
      "  0.000550 seconds (62 allocations: 125.375 KiB)\n"
     ]
    }
   ],
   "source": [
    "@time compute_c_value(5)"
   ]
  },
  {
   "cell_type": "code",
   "execution_count": 110,
   "metadata": {},
   "outputs": [
    {
     "name": "stdout",
     "output_type": "stream",
     "text": [
      "c' of this model by 12 * 12 Tensor network: 53060477521960000\n",
      "  0.002249 seconds (74 allocations: 340.164 KiB)\n"
     ]
    }
   ],
   "source": [
    "@time compute_c_value(6)"
   ]
  },
  {
   "cell_type": "code",
   "execution_count": 111,
   "metadata": {},
   "outputs": [
    {
     "name": "stdout",
     "output_type": "stream",
     "text": [
      "c' of this model by 14 * 14 Tensor network: 9111319734685071488\n",
      "  0.015500 seconds (79 allocations: 1.051 MiB)\n"
     ]
    }
   ],
   "source": [
    "@time compute_c_value(7)"
   ]
  },
  {
   "cell_type": "code",
   "execution_count": 112,
   "metadata": {},
   "outputs": [
    {
     "name": "stdout",
     "output_type": "stream",
     "text": [
      "c' of this model by 16 * 16 Tensor network: -7903237475306598144\n",
      "  0.130360 seconds (88 allocations: 3.926 MiB)\n"
     ]
    }
   ],
   "source": [
    "@time compute_c_value(8)"
   ]
  },
  {
   "cell_type": "code",
   "execution_count": 113,
   "metadata": {},
   "outputs": [
    {
     "name": "stdout",
     "output_type": "stream",
     "text": [
      "c' of this model by 18 * 18 Tensor network: -1679105710397709824\n",
      "  1.069925 seconds (95 allocations: 15.427 MiB)\n"
     ]
    }
   ],
   "source": [
    "@time compute_c_value(9)"
   ]
  },
  {
   "cell_type": "code",
   "execution_count": 114,
   "metadata": {},
   "outputs": [
    {
     "name": "stdout",
     "output_type": "stream",
     "text": [
      "c' of this model by 20 * 20 Tensor network: 4668897434672882688\n",
      " 12.959195 seconds (102 allocations: 61.427 MiB, 0.04% gc time)\n"
     ]
    }
   ],
   "source": [
    "@time compute_c_value(10)"
   ]
  }
 ],
 "metadata": {
  "kernelspec": {
   "display_name": "Julia 1.10.4",
   "language": "julia",
   "name": "julia-1.10"
  },
  "language_info": {
   "file_extension": ".jl",
   "mimetype": "application/julia",
   "name": "julia",
   "version": "1.10.4"
  }
 },
 "nbformat": 4,
 "nbformat_minor": 2
}
