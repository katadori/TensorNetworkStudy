{
 "cells": [
  {
   "cell_type": "markdown",
   "metadata": {},
   "source": [
    "# テンソルネットワークのべんきょう\n",
    "\n",
    "西野友年「テンソルネットワーク入門」講談社，2023に出てくる計算を実際にプログラムしてみます．\n",
    "\n",
    "- 言語はJuliaで\n",
    "\n",
    "\n",
    "## 第3章 畳で学ぶ転送行列\n",
    "\n",
    "$n$畳間に畳を敷き詰める方法は何通りあるか？をvertex模型と考えて，テンソルネットワークとみなす．\n",
    "\n",
    "---\n",
    "\n",
    "### 4脚テンソルの値\n",
    "\n",
    "本書では4脚テンソルの値は次のように決められている．\n",
    "\n",
    "$$\n",
    "W_{0010} = W_{1000} = W_{0001} = W_{0100} = 1,\n",
    "$$\n",
    "それ以外の配置の場合には\n",
    "$$\n",
    "    W_{abcd} = 0\n",
    "$$\n",
    "ただし，テキスト中ではテンソルの脚は十字型に配置されているが，この文書では表現できないため，一番左の脚から時計回りに $W_{abcd}$としている．"
   ]
  },
  {
   "cell_type": "code",
   "execution_count": 1,
   "metadata": {},
   "outputs": [
    {
     "name": "stdout",
     "output_type": "stream",
     "text": [
      "[0 1; 1 0;;; 1 0; 0 0;;;; 1 0; 0 0;;; 0 0; 0 0]\n",
      "(2, 2, 2, 2)\n"
     ]
    }
   ],
   "source": [
    "# 4階のテンソルを作成\n",
    "W = zeros(Int64, 2, 2, 2, 2)\n",
    "\n",
    "W[2, 1, 1, 1] = 1\n",
    "W[1, 2, 1, 1] = 1\n",
    "W[1, 1, 2, 1] = 1\n",
    "W[1, 1, 1, 2] = 1\n",
    "\n",
    "println(W)\n",
    "println(size(W))"
   ]
  },
  {
   "cell_type": "markdown",
   "metadata": {},
   "source": [
    "---\n",
    "\n",
    "### A. 力技でループで和を取る方法（部分和なし）\n",
    "\n",
    "この場合，和をとる項の数がとても大きくなると予想される．"
   ]
  },
  {
   "cell_type": "markdown",
   "metadata": {},
   "source": [
    "### 2畳間の場合\n",
    "\n",
    "![](sec3_2-jo.png)\n",
    "\n",
    "畳の敷き詰め方 $c$ は，\n",
    "\n",
    "$$\n",
    "    c = \\sum_{qprs} W_{0 p q 0} W_{q r 0 0} W_{s 0 0 r} W_{0 0 s p}\n",
    "$$\n",
    "であるから，単純に和を取ると，"
   ]
  },
  {
   "cell_type": "code",
   "execution_count": 5,
   "metadata": {},
   "outputs": [
    {
     "name": "stdout",
     "output_type": "stream",
     "text": [
      "c_tatami: 2\n",
      "number of arguments in summation: 16\n",
      "  0.000319 seconds (176 allocations: 6.297 KiB)\n"
     ]
    }
   ],
   "source": [
    "function calc_2_tatami()\n",
    "    c_tatami = 0\n",
    "    sum_count = 0\n",
    "    for p in 1:2\n",
    "        for q in 1:2\n",
    "            for r in 1:2\n",
    "                for s in 1:2\n",
    "                    c_tatami += W[1, p, q, 1] * W[q, r, 1, 1] * W[s, 1, 1, r] * W[1, 1, s, p]\n",
    "                    sum_count += 1\n",
    "                end\n",
    "            end\n",
    "        end\n",
    "    end\n",
    "    println(\"c_tatami: $c_tatami\")\n",
    "    println(\"number of arguments in summation: $sum_count\")\n",
    "end\n",
    "\n",
    "@time calc_2_tatami()"
   ]
  },
  {
   "cell_type": "markdown",
   "metadata": {},
   "source": [
    "## 3畳間の場合\n",
    "\n",
    "![](sec3_3-jo.png)\n",
    "\n",
    "$$\n",
    "    C = \\sum_{pqrstuv} W_{00vp} W_{0ptq} W_{0qr0} W_{rs00} W_{tu0s} W_{v00u}\n",
    "$$\n",
    "より"
   ]
  },
  {
   "cell_type": "code",
   "execution_count": 6,
   "metadata": {},
   "outputs": [
    {
     "name": "stdout",
     "output_type": "stream",
     "text": [
      "c_tatami: 3\n",
      "number of arguments in summation: 128\n",
      "  0.006096 seconds (2.17 k allocations: 77.938 KiB, 87.06% compilation time)\n"
     ]
    }
   ],
   "source": [
    "function calc_3_tatami()\n",
    "    c_tatami = 0\n",
    "    sum_count = 0\n",
    "    for p in 1:2\n",
    "        for q in 1:2\n",
    "            for r in 1:2\n",
    "                for s in 1:2\n",
    "                    for t in 1:2\n",
    "                        for u in 1:2\n",
    "                            for v in 1:2\n",
    "                                c_tatami += W[1,1,v,p] * W[1,p,t,q] * W[1,q,r,1] * W[r,s,1,1] * W[t,u,1,s] * W[v,1,1,u]\n",
    "                                sum_count += 1\n",
    "                            end\n",
    "                        end\n",
    "                    end\n",
    "                end\n",
    "            end\n",
    "        end\n",
    "    end\n",
    "    println(\"c_tatami: $c_tatami\")\n",
    "    println(\"number of arguments in summation: $sum_count\")\n",
    "end\n",
    "\n",
    "@time calc_3_tatami()"
   ]
  },
  {
   "cell_type": "markdown",
   "metadata": {},
   "source": [
    "### 6畳間の場合\n",
    "\n",
    "![](sec3_6-jo.png)\n",
    "\n",
    "$$\n",
    "    C = \\sum_{abcdefghijklmnopq} W_{0ac0} W_{0bda} W_{00eb} W_{cfh0} W_{dgif} W_{e0jg} W_{hkm0} W_{ilnk} W_{j0ol} W_{mp00} W_{nq0p} W_{o00q}\n",
    "$$"
   ]
  },
  {
   "cell_type": "code",
   "execution_count": 7,
   "metadata": {},
   "outputs": [
    {
     "name": "stdout",
     "output_type": "stream",
     "text": [
      "c_tatami: 11\n",
      "number of arguments in summation: 131072\n",
      "  0.904771 seconds (3.41 M allocations: 132.001 MiB, 1.26% gc time)\n"
     ]
    }
   ],
   "source": [
    "function calc_6_tatami()\n",
    "    c_tatami = 0\n",
    "    sum_count = 0\n",
    "    for a in 1:2; for b in 1:2; for c in 1:2; for d in 1:2\n",
    "        for e in 1:2; for f in 1:2; for g in 1:2; for h in 1:2\n",
    "            for i in 1:2; for j in 1:2; for k in 1:2; for l in 1:2\n",
    "                for m in 1:2; for n in 1:2; for o in 1:2; for p in 1:2\n",
    "                    for q in 1:2\n",
    "                        c_tatami += (W[1,a,c,1]*W[1,b,d,a]*W[1,1,e,b]\n",
    "                            *W[c,f,h,1]*W[d,g,i,f]*W[e,1,j,g]\n",
    "                                *W[h,k,m,1]*W[i,l,n,k]*W[j,1,o,l]\n",
    "                                    *W[m,p,1,1]*W[n,q,1,p]*W[o,1,1,q])\n",
    "                        sum_count += 1\n",
    "                    end\n",
    "                end;end;end;end\n",
    "            end;end;end;end\n",
    "        end;end;end;end\n",
    "    end;end;end;end\n",
    "    println(\"c_tatami: $c_tatami\")\n",
    "    println(\"number of arguments in summation: $sum_count\")\n",
    "end\n",
    "\n",
    "@time calc_6_tatami()\n"
   ]
  },
  {
   "cell_type": "markdown",
   "metadata": {},
   "source": [
    "---\n",
    "\n",
    "## 行列積・行列積関数・転送行列\n",
    "\n",
    "上の計算方法では，大きくなると計算が一気に破綻してしまう...\n",
    "\n",
    "e.g. 18畳...36このWの積\n",
    "\n",
    "部分和を取ることで，計算量を減らす．"
   ]
  },
  {
   "cell_type": "markdown",
   "metadata": {},
   "source": [
    "## 2畳モデル\n",
    "\n",
    "![](sec3_part_2-jo.jpg)\n",
    "\n",
    "1. $W_{0ab0}$と$W_{bc00}$から行列積$T_{ac}$を作る処理"
   ]
  },
  {
   "cell_type": "code",
   "execution_count": 19,
   "metadata": {},
   "outputs": [
    {
     "name": "stdout",
     "output_type": "stream",
     "text": [
      "T: [1 0; 0 1]\n",
      "sum_count: 8\n"
     ]
    },
    {
     "data": {
      "text/plain": [
       "([1 0; 0 1], 8)"
      ]
     },
     "metadata": {},
     "output_type": "display_data"
    }
   ],
   "source": [
    "function part_tatami2_T()\n",
    "    T = zeros(Int64, 2, 2)\n",
    "    sum_count = 0\n",
    "    for a in 1:2; for c in 1:2;\n",
    "        value::Int32 = 0\n",
    "        for b in 1:2\n",
    "            value += W[1,a,b,1] * W[b,c,1,1]\n",
    "            sum_count += 1\n",
    "        end\n",
    "        T[a,c] += value\n",
    "    end;end\n",
    "    println(\"T: $T\")\n",
    "    println(\"sum_count: $sum_count\")\n",
    "    return (T, sum_count)\n",
    "end\n",
    "T, sum_count = part_tatami2_T()"
   ]
  },
  {
   "cell_type": "code",
   "execution_count": 20,
   "metadata": {},
   "outputs": [
    {
     "data": {
      "text/plain": [
       "1"
      ]
     },
     "metadata": {},
     "output_type": "display_data"
    }
   ],
   "source": [
    "T[2,2]"
   ]
  },
  {
   "cell_type": "markdown",
   "metadata": {},
   "source": [
    "2. $T_{ac}$と$T_{ac}$で和を取る処理"
   ]
  },
  {
   "cell_type": "code",
   "execution_count": 21,
   "metadata": {},
   "outputs": [
    {
     "name": "stdout",
     "output_type": "stream",
     "text": [
      "value: 2\n",
      "sum_count: 12\n"
     ]
    }
   ],
   "source": [
    "function part_tatami_2(T::Array{Int64, 2}, sum_count::Int64)\n",
    "    value = 0\n",
    "    for a in 1:2;\n",
    "        for c in 1:2\n",
    "            value += T[a,c] * T[a,c]\n",
    "            sum_count += 1\n",
    "        end\n",
    "    end\n",
    "    println(\"value: $value\")\n",
    "    println(\"sum_count: $sum_count\")\n",
    "end\n",
    "part_tatami_2(T, sum_count)"
   ]
  },
  {
   "cell_type": "markdown",
   "metadata": {},
   "source": [
    "## 3畳（横）の時\n",
    "\n",
    "![](sec3_part_3-jo.jpg)\n",
    "\n",
    "1. $W_{0ad0}$と$W_{dbe0}$と$W_{ec00}$から $T_{abc}$ を作る\n",
    "\n",
    "- その前に，$W_{0ad0}$と$W_{dbe0}$ から $E_{abe}$を作る\n",
    "- $E_{abe}$と$W_{ec00}$から$T_{abc}$を作る"
   ]
  },
  {
   "cell_type": "code",
   "execution_count": 22,
   "metadata": {},
   "outputs": [
    {
     "name": "stdout",
     "output_type": "stream",
     "text": [
      "E: [1 0; 0 1;;; 0 0; 1 0]\n",
      "sum_count: 16\n",
      "T: [0 0; 1 0;;; 1 0; 0 1]\n",
      "sum_count: 32\n"
     ]
    },
    {
     "data": {
      "text/plain": [
       "([0 0; 1 0;;; 1 0; 0 1], 32)"
      ]
     },
     "metadata": {},
     "output_type": "display_data"
    }
   ],
   "source": [
    "function part_tatami3_T()\n",
    "    sum_count = 0\n",
    "    E = zeros(Int64, 2, 2, 2)\n",
    "    # E を作る\n",
    "    for a in 1:2; for b in 1:2; for e in 1:2\n",
    "        value = 0\n",
    "        for d in 1:2\n",
    "            value += W[1,a,d,1]*W[d,b,e,1]\n",
    "            sum_count += 1\n",
    "        end\n",
    "        E[a,b,e] += value\n",
    "    end;end;end\n",
    "    println(\"E: $E\")\n",
    "    println(\"sum_count: $sum_count\")\n",
    "    # E から Tを作る\n",
    "    T = zeros(Int64, 2, 2, 2)\n",
    "    for a in 1:2; for b in 1:2; for c in 1:2\n",
    "        value = 0\n",
    "        for e in 1:2\n",
    "            value += \n",
    "            E[a,b,e] * W[e,c,1,1]\n",
    "            sum_count += 1\n",
    "        end\n",
    "        T[a,b,c] += value\n",
    "    end;end;end\n",
    "    println(\"T: $T\")\n",
    "    println(\"sum_count: $sum_count\")\n",
    "    return (T, sum_count)\n",
    "end\n",
    "\n",
    "T_3, sum_count_T3 = part_tatami3_T()"
   ]
  },
  {
   "cell_type": "markdown",
   "metadata": {},
   "source": [
    "2. $T_{abc}$と$T_{abc}$から全体の個数を計算する"
   ]
  },
  {
   "cell_type": "code",
   "execution_count": 23,
   "metadata": {},
   "outputs": [
    {
     "name": "stdout",
     "output_type": "stream",
     "text": [
      "value: 3\n",
      "sum_count: 40\n"
     ]
    }
   ],
   "source": [
    "function part_tatami_3(T::Array{Int64, 3}, sum_count::Int64)\n",
    "    value = 0\n",
    "    for a in 1:2; for b in 1:2; for c in 1:2\n",
    "            value += T[a,b,c] * T[a,b,c]\n",
    "            sum_count += 1\n",
    "    end; end; end\n",
    "    println(\"value: $value\")\n",
    "    println(\"sum_count: $sum_count\")\n",
    "end\n",
    "part_tatami_3(T_3, sum_count_T3)"
   ]
  },
  {
   "cell_type": "markdown",
   "metadata": {},
   "source": [
    "## 6畳の時\n",
    "\n",
    "![](sec3_part_6-jo_1.jpg)\n",
    "\n",
    "1. $W_{0ae0} W_{ebf0} W_{fcg0} W_{gd00}$ から $\\Psi_{abcd}$を作りたい\n",
    "    - まず $W_{0ae0} W_{ebf0}$ から $E_{abf}$ を作る\n",
    "    - $E_{abf}$と$W_{fcg0}$から$F_{abcg}$を作る\n",
    "    - $F_{abcg}$と$W_{gd00}$から$\\Psi_{abcd}$を作る"
   ]
  },
  {
   "cell_type": "code",
   "execution_count": 2,
   "metadata": {},
   "outputs": [
    {
     "name": "stdout",
     "output_type": "stream",
     "text": [
      "E: [1 0; 0 1;;; 0 0; 1 0]\n",
      "sum_count: 16\n",
      "F: [0 0; 1 0;;; 1 0; 0 1;;;; 1 0; 0 1;;; 0 0; 0 0]\n",
      "sum_count: 48\n",
      "Ψ: [1 0; 0 1;;; 0 0; 0 0;;;; 0 0; 1 0;;; 1 0; 0 1]\n",
      "sum_count: 80\n"
     ]
    },
    {
     "data": {
      "text/plain": [
       "([1 0; 0 1;;; 0 0; 0 0;;;; 0 0; 1 0;;; 1 0; 0 1], 80)"
      ]
     },
     "metadata": {},
     "output_type": "display_data"
    }
   ],
   "source": [
    "function part_tatami6_psi()\n",
    "    sum_count = 0\n",
    "    E = zeros(Int64, 2, 2, 2)\n",
    "    # E を作る\n",
    "    for a in 1:2; for b in 1:2; for f in 1:2\n",
    "        value = 0\n",
    "        for e in 1:2\n",
    "            value += W[1,a,e,1]*W[e,b,f,1]\n",
    "            sum_count += 1\n",
    "        end\n",
    "        E[a,b,f] += value\n",
    "    end;end;end\n",
    "    println(\"E: $E\")\n",
    "    println(\"sum_count: $sum_count\")\n",
    "    # E から Fを作る\n",
    "    F = zeros(Int64, 2, 2, 2, 2)\n",
    "    for a in 1:2; for b in 1:2; for c in 1:2; for g in 1:2\n",
    "        value = 0\n",
    "        for f in 1:2\n",
    "            value += E[a,b,f] * W[f,c,g,1]\n",
    "            sum_count += 1\n",
    "        end\n",
    "        F[a,b,c,g] += value\n",
    "    end;end;end;end\n",
    "    println(\"F: $F\")\n",
    "    println(\"sum_count: $sum_count\")\n",
    "    # F と W から psiを作る\n",
    "    Ψ = zeros(Int64, 2,2,2,2)\n",
    "    for a in 1:2; for b in 1:2; for c in 1:2; for d in 1:2\n",
    "        value::Int64 = 0\n",
    "        for g in 1:2\n",
    "            value += F[a,b,c,g] * W[g,d,1,1]\n",
    "            sum_count += 1\n",
    "        end\n",
    "        Ψ[a,b,c,d] += value\n",
    "    end;end;end;end\n",
    "    println(\"Ψ: $Ψ\")\n",
    "    println(\"sum_count: $sum_count\")\n",
    "    return (Ψ, sum_count)\n",
    "end\n",
    "\n",
    "Ψ_6, sum_count_Ψ6 = part_tatami6_psi()"
   ]
  },
  {
   "cell_type": "markdown",
   "metadata": {},
   "source": [
    "![](sec3_part_6-jo_2.jpg)\n",
    "\n",
    "2. 2段の$\\Psi'_{pqrs}$を計算する\n",
    "    - $\\Psi_{abcd}$と$W_{fed0}$の積を取って，$D_{abcfe}$を得る\n",
    "    - $D_{abcfe}$ に $W_{fed0}$ を加える\n",
    "    - 繰り返す"
   ]
  },
  {
   "cell_type": "code",
   "execution_count": 6,
   "metadata": {},
   "outputs": [
    {
     "name": "stdout",
     "output_type": "stream",
     "text": [
      "Ψ': [5 0; 0 2;;; 0 1; 0 0;;;; 0 0; 1 0;;; 2 0; 0 1]\n",
      "Array{Int64, 4}\n",
      "sum_count: 464\n"
     ]
    },
    {
     "data": {
      "text/plain": [
       "([5 0; 0 2;;; 0 1; 0 0;;;; 0 0; 1 0;;; 2 0; 0 1], 464)"
      ]
     },
     "metadata": {},
     "output_type": "display_data"
    }
   ],
   "source": [
    "function part_tatami6_2step(Ψ::Array{Int64, 4}, sum_count::Int64)\n",
    "    D = zeros(Int64, 2, 2, 2, 2, 2)\n",
    "    for a in 1:2; for b in 1:2; for c in 1:2; for f in 1:2; for e in 1:2\n",
    "        value = 0\n",
    "        for d in 1:2\n",
    "            value += Ψ[a,b,c,d] * W[f,e,1,d]\n",
    "            sum_count += 1\n",
    "        end\n",
    "        D[a,b,c,f,e] += value\n",
    "    end;end;end;end;end\n",
    "    # println(\"D: $D\")\n",
    "\n",
    "    # D を横に伸ばす\n",
    "    E = zeros(Int64, 2, 2, 2, 2, 2)\n",
    "    for a in 1:2; for b in 1:2; for g in 1:2; for h in 1:2; for e in 1:2\n",
    "        value = 0\n",
    "        for c in 1:2; for f in 1:2\n",
    "            value += D[a,b,c,f,e] * W[g,h,f,c]\n",
    "            sum_count += 1\n",
    "        end;end\n",
    "        E[a,b,g,h,e] += value\n",
    "    end;end;end;end;end\n",
    "\n",
    "    # E を横に伸ばす\n",
    "    F = zeros(Int64, 2, 2, 2, 2, 2)\n",
    "    for a in 1:2; for j in 1:2; for i in 1:2; for h in 1:2; for e in 1:2\n",
    "        value = 0\n",
    "        for b in 1:2; for g in 1:2\n",
    "            value += E[a,b,g,h,e] * W[j,i,g,b]\n",
    "            sum_count += 1\n",
    "        end;end\n",
    "        F[a,j,i,h,e] += value\n",
    "#    println(\"F: $F\")\n",
    "    end;end;end;end;end\n",
    "\n",
    "    # F を横に伸ばす\n",
    "    G = zeros(Int64, 2, 2, 2, 2)\n",
    "    for k in 1:2; for i in 1:2; for h in 1:2; for e in 1:2\n",
    "        value = 0\n",
    "        for a in 1:2; for j in 1:2\n",
    "            value += F[a,j,i,h,e] * W[1,k,j,a]\n",
    "            sum_count += 1\n",
    "        end;end\n",
    "        G[k,i,h,e] += value\n",
    "    end;end;end;end\n",
    "\n",
    "    println(\"Ψ': $G\")\n",
    "    println(typeof(G))\n",
    "    println(\"sum_count: $sum_count\")\n",
    "    return (G, sum_count)\n",
    "end\n",
    "\n",
    "Ψ_6_2step, sum_count_Ψ6_2step = part_tatami6_2step(Ψ_6, sum_count_Ψ6)"
   ]
  },
  {
   "cell_type": "markdown",
   "metadata": {},
   "source": [
    "![](sec3_part_6-jo_3.jpg)\n",
    "\n",
    "3. $\\Psi'_{abcd}$ と $\\Psi_{abcd}$で行列積を取って計算する．"
   ]
  },
  {
   "cell_type": "code",
   "execution_count": 8,
   "metadata": {},
   "outputs": [
    {
     "name": "stdout",
     "output_type": "stream",
     "text": [
      "value: 11\n",
      "sum_count: 480\n"
     ]
    }
   ],
   "source": [
    "function part_tatami_6(Ψ_1::Array{Int64, 4}, Ψ_2::Array{Int64, 4}, sum_count::Int64)\n",
    "    value = 0\n",
    "    for a in 1:2; for b in 1:2; for c in 1:2; for d in 1:2\n",
    "        value += Ψ_1[a,b,c,d] * Ψ_2[a,b,c,d]\n",
    "        sum_count += 1\n",
    "    end;end;end;end\n",
    "    println(\"value: $value\")\n",
    "    println(\"sum_count: $sum_count\")\n",
    "end\n",
    "\n",
    "part_tatami_6(Ψ_6, Ψ_6_2step, sum_count_Ψ6_2step)"
   ]
  },
  {
   "cell_type": "markdown",
   "metadata": {},
   "source": [
    "となり，無事一致し，かつ計算回数が劇的に少なくなっていることがわかる．"
   ]
  },
  {
   "cell_type": "markdown",
   "metadata": {},
   "source": [
    "## "
   ]
  },
  {
   "cell_type": "code",
   "execution_count": null,
   "metadata": {},
   "outputs": [],
   "source": []
  }
 ],
 "metadata": {
  "kernelspec": {
   "display_name": "Julia 1.10.4",
   "language": "julia",
   "name": "julia-1.10"
  },
  "language_info": {
   "file_extension": ".jl",
   "mimetype": "application/julia",
   "name": "julia",
   "version": "1.10.4"
  }
 },
 "nbformat": 4,
 "nbformat_minor": 2
}
